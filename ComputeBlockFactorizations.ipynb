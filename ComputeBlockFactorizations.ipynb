{
 "cells": [
  {
   "cell_type": "code",
   "execution_count": 1,
   "metadata": {},
   "outputs": [],
   "source": [
    "import numpy as np\n",
    "from matplotlib import pyplot as plt\n",
    "import psdfactorization\n",
    "import pickle"
   ]
  },
  {
   "cell_type": "code",
   "execution_count": 2,
   "metadata": {},
   "outputs": [],
   "source": [
    "# Load data set\n",
    "imgmat = np.load('facedata.npy')\n",
    "\n",
    "# Data parameters\n",
    "HEIGHT = 19\n",
    "WIDTH = 19\n",
    "\n",
    "# Invert colours\n",
    "imgmat = np.ones(imgmat.shape) - imgmat"
   ]
  },
  {
   "cell_type": "markdown",
   "metadata": {},
   "source": [
    "#### Full PSD of size 7x7"
   ]
  },
  {
   "cell_type": "code",
   "execution_count": null,
   "metadata": {},
   "outputs": [],
   "source": [
    "# Compute PSD factorization\n",
    "# Alternatively, if you've computed a factorization previously, go down to load the factors\n",
    "\n",
    "psd_rank = 7 # Rank parameter\n",
    "np.random.seed(626) \n",
    "nIterates = 500\n",
    "X = psdfactorization.compute_psd_factorization(imgmat,psd_rank,nIterates = nIterates) # We can use more iterations if needed"
   ]
  },
  {
   "cell_type": "code",
   "execution_count": null,
   "metadata": {},
   "outputs": [],
   "source": [
    "# Save to disk\n",
    "filedir = 'learned_factors/'\n",
    "fname = 'totaldampedinvscale_face_rank' + str(psd_rank) + '_' + str(nIterates) + '.pickle'\n",
    "with open(filedir+fname, 'wb') as handle:\n",
    "    pickle.dump(X, handle, protocol=pickle.HIGHEST_PROTOCOL)"
   ]
  },
  {
   "cell_type": "code",
   "execution_count": null,
   "metadata": {},
   "outputs": [],
   "source": [
    "# This is what A (uu^T) where u is a random vector looks like\n",
    "# These images are basic atoms that constitute a face\n",
    "\n",
    "# Generate random rank-one matrix\n",
    "def genrandomrankone(q):\n",
    "    v = np.random.randn(q)\n",
    "    v *= 1.0/np.linalg.norm(v)\n",
    "    V = np.outer(v,v)\n",
    "    return V\n",
    "\n",
    "r = 7\n",
    "V = genrandomrankone(r)\n",
    "AA_flat = np.reshape(X['A'],(361,r*r))\n",
    "V_flat = np.reshape(V,(r*r,1))\n",
    "Img_flat = AA_flat @ V_flat\n",
    "Img_square = np.reshape(Img_flat,(HEIGHT,WIDTH))\n",
    "plt.imshow(Img_square,cmap='gray')"
   ]
  },
  {
   "cell_type": "markdown",
   "metadata": {},
   "source": [
    "#### Block 2x2, 9 copies"
   ]
  },
  {
   "cell_type": "code",
   "execution_count": null,
   "metadata": {},
   "outputs": [],
   "source": [
    "# Compute PSD factorization\n",
    "# Alternatively, if you've computed a factorization previously, go down to load the factors\n",
    "\n",
    "psd_rank = [2,2,2,2,2,2,2,2,2] # Rank parameter\n",
    "np.random.seed(626) \n",
    "nIterates = 500\n",
    "X = psdfactorization.compute_block2psd_factorization(imgmat,psd_rank,nIterates = nIterates) # We can use more iterations if needed"
   ]
  },
  {
   "cell_type": "code",
   "execution_count": 5,
   "metadata": {},
   "outputs": [],
   "source": [
    "# Save to disk\n",
    "filedir = 'learned_factors/'\n",
    "fname = 'block222222222_' + str(nIterates) + '.pickle'\n",
    "with open(filedir+fname, 'wb') as handle:\n",
    "    pickle.dump(X, handle, protocol=pickle.HIGHEST_PROTOCOL)"
   ]
  },
  {
   "cell_type": "code",
   "execution_count": null,
   "metadata": {},
   "outputs": [],
   "source": [
    "# This is what A (uu^T) where u is a random vector looks like\n",
    "# These images are basic atoms that constitute a face\n",
    "\n",
    "# Generate random rank-one matrix\n",
    "def standardrankone(q,r):\n",
    "    v = np.zeros(q)\n",
    "    v[r,] = 1.0\n",
    "    V = np.outer(v,v)\n",
    "    return V\n",
    "\n",
    "r = 18\n",
    "V = standardrankone(18,0)\n",
    "AA_flat = np.reshape(X['A'],(361,r*r))\n",
    "V_flat = np.reshape(V,(r*r,1))\n",
    "Img_flat = AA_flat @ V_flat\n",
    "Img_square = np.reshape(Img_flat,(HEIGHT,WIDTH))\n",
    "plt.imshow(Img_square,cmap='gray')"
   ]
  },
  {
   "cell_type": "markdown",
   "metadata": {},
   "source": [
    "#### NMF"
   ]
  },
  {
   "cell_type": "code",
   "execution_count": null,
   "metadata": {},
   "outputs": [],
   "source": [
    "# Compute PSD factorization\n",
    "# Alternatively, if you've computed a factorization previously, go down to load the factors\n",
    "\n",
    "psd_rank = [1 for i in range(27)] # Rank parameter\n",
    "np.random.seed(626) \n",
    "nIterates = 500\n",
    "X = psdfactorization.compute_block2psd_factorization(imgmat,psd_rank,nIterates = nIterates) # We can use more iterations if needed"
   ]
  },
  {
   "cell_type": "code",
   "execution_count": 18,
   "metadata": {},
   "outputs": [],
   "source": [
    "# Save to disk\n",
    "filedir = 'learned_factors/'\n",
    "fname = 'block1x27_' + str(nIterates) + '.pickle'\n",
    "with open(filedir+fname, 'wb') as handle:\n",
    "    pickle.dump(X, handle, protocol=pickle.HIGHEST_PROTOCOL)"
   ]
  }
 ],
 "metadata": {
  "kernelspec": {
   "display_name": "Python 3",
   "language": "python",
   "name": "python3"
  },
  "language_info": {
   "codemirror_mode": {
    "name": "ipython",
    "version": 3
   },
   "file_extension": ".py",
   "mimetype": "text/x-python",
   "name": "python",
   "nbconvert_exporter": "python",
   "pygments_lexer": "ipython3",
   "version": "3.7.7"
  }
 },
 "nbformat": 4,
 "nbformat_minor": 4
}
