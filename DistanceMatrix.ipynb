{
 "cells": [
  {
   "cell_type": "code",
   "execution_count": null,
   "metadata": {},
   "outputs": [],
   "source": [
    "\"\"\"\n",
    "Code for replicating numerical experiment on Distance Matrices\n",
    "\"\"\""
   ]
  },
  {
   "cell_type": "code",
   "execution_count": null,
   "metadata": {},
   "outputs": [],
   "source": [
    "import numpy as np\n",
    "import psdfactorization as pf\n",
    "from matplotlib import pyplot as plt"
   ]
  },
  {
   "cell_type": "code",
   "execution_count": null,
   "metadata": {},
   "outputs": [],
   "source": [
    "def genDistanceMatrix(vec):\n",
    "    # Generate a Distance Matrix from input vector vec\n",
    "    # i,j entry is (vec[i]-vec[j])**2\n",
    "    q = vec.shape[0]\n",
    "    M = np.zeros((q,q))\n",
    "    for i in range(q):\n",
    "        for j in range(q):\n",
    "            M[i,j] = (vec[i,]-vec[j,])**2\n",
    "    return M"
   ]
  },
  {
   "cell_type": "code",
   "execution_count": null,
   "metadata": {},
   "outputs": [],
   "source": [
    "# Parameters\n",
    "n = 20\n",
    "# v = np.array(range(n))\n",
    "v = np.random.randn(n)\n",
    "X = genDistanceMatrix(v)\n",
    "\n",
    "nIterates = 500\n",
    "nTries = 50\n",
    "q = 2\n",
    "\n",
    "Errs = np.zeros((nTries,nIterates))"
   ]
  },
  {
   "cell_type": "code",
   "execution_count": null,
   "metadata": {},
   "outputs": [],
   "source": [
    "for jj in range(nTries):\n",
    "\n",
    "    Soln = pf.compute_psd_factorization(X, q,nIterates=nIterates,silent=True)\n",
    "    Errs[jj,:] = Soln['Errors']\n",
    "    Errs[jj,:] = np.multiply(Errs[jj,:],Errs[jj,:])"
   ]
  },
  {
   "cell_type": "code",
   "execution_count": null,
   "metadata": {},
   "outputs": [],
   "source": [
    "fig,ax = plt.subplots()\n",
    "\n",
    "ax.set_ylim([0.0,0.5])\n",
    "ax.set_xlabel('Number of Iterates')\n",
    "ax.set_ylabel('Normalized Squared Error')\n",
    "\n",
    "for ii in range(nTries):\n",
    "    plt.plot((Errs[ii,:]),'k',linewidth=0.5)\n",
    "    \n",
    "plt.savefig('DM_err.pdf')"
   ]
  },
  {
   "cell_type": "code",
   "execution_count": null,
   "metadata": {},
   "outputs": [],
   "source": [
    "fig,ax = plt.subplots()\n",
    "\n",
    "ax.set_xlabel('Number of Iterates')\n",
    "ax.set_ylabel('Log Normalized Squared Error')\n",
    "\n",
    "for ii in range(nTries):\n",
    "    plt.plot(np.log(Errs[ii,:]),'k',linewidth=0.5)\n",
    "    \n",
    "plt.savefig('DM_logerr.pdf')"
   ]
  }
 ],
 "metadata": {
  "kernelspec": {
   "display_name": "Python 3",
   "language": "python",
   "name": "python3"
  },
  "language_info": {
   "codemirror_mode": {
    "name": "ipython",
    "version": 3
   },
   "file_extension": ".py",
   "mimetype": "text/x-python",
   "name": "python",
   "nbconvert_exporter": "python",
   "pygments_lexer": "ipython3",
   "version": "3.7.7"
  }
 },
 "nbformat": 4,
 "nbformat_minor": 4
}
